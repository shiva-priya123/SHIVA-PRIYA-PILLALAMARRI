{
 "cells": [
  {
   "cell_type": "code",
   "execution_count": 13,
   "metadata": {},
   "outputs": [
    {
     "name": "stdout",
     "output_type": "stream",
     "text": [
      "enter year :2020\n",
      "rat\n"
     ]
    }
   ],
   "source": [
    "#1\n",
    "s=int(input(\"enter year :\"))\n",
    "i=['monkey','rooster','dog','pig','rat','ox','tiger','rabbit','dragon','snake','horse','sheep']\n",
    "n=i[s%12]\n",
    "print(n)"
   ]
  },
  {
   "cell_type": "code",
   "execution_count": 12,
   "metadata": {},
   "outputs": [
    {
     "name": "stdout",
     "output_type": "stream",
     "text": [
      "enter distance200\n",
      "enter weight150\n",
      "1600\n"
     ]
    }
   ],
   "source": [
    "#2\n",
    "s=int(input(\"enter distance\"))\n",
    "w=int(input(\"enter weight\"))\n",
    "if s>=500 :\n",
    "    if w>=100:\n",
    "        cost = 5*s\n",
    "    elif w>=10 and w<100 :\n",
    "        cost = 6*s\n",
    "    else:\n",
    "        cost = 7*s\n",
    "else:\n",
    "    if w>=100:\n",
    "        cost = 8*s\n",
    "    else:\n",
    "            cost = 5*s\n",
    "print (cost)"
   ]
  },
  {
   "cell_type": "code",
   "execution_count": 11,
   "metadata": {},
   "outputs": [
    {
     "name": "stdout",
     "output_type": "stream",
     "text": [
      "type of seat box\n",
      "payment mode cash\n",
      "900.0\n"
     ]
    }
   ],
   "source": [
    "#3\n",
    "s=input( \"type of seat \")\n",
    "if s=='stalls':\n",
    "    cost = 625\n",
    "elif s=='cirlce':\n",
    "    cost = 750\n",
    "elif s=='upperclass':\n",
    "    cost = 850\n",
    "elif s=='box':\n",
    "    cost = 1000\n",
    "p=input(\"payment mode \")\n",
    "if p=='cash':\n",
    "    cost = cost-cost*(10/100)\n",
    "    print(cost)\n",
    "else:\n",
    "    cost = cost-cost*(1/20)\n",
    "    print(cost)"
   ]
  },
  {
   "cell_type": "code",
   "execution_count": 10,
   "metadata": {},
   "outputs": [
    {
     "name": "stdout",
     "output_type": "stream",
     "text": [
      "enter weight of water in kgs : 50\n",
      "enter initial temperature of water : 60\n",
      "enter final temperature of water : 70\n",
      "2092000\n"
     ]
    }
   ],
   "source": [
    "w=int(input(\"enter weight of water in kgs : \"))\n",
    "i=int(input(\"enter initial temperature of water : \"))\n",
    "f=int(input(\"enter final temperature of water : \"))\n",
    "q=(w)*(f-i)*4184\n",
    "print(q)"
   ]
  },
  {
   "cell_type": "code",
   "execution_count": 9,
   "metadata": {},
   "outputs": [
    {
     "name": "stdout",
     "output_type": "stream",
     "text": [
      "enter month: july\n",
      "summer\n"
     ]
    }
   ],
   "source": [
    "#5\n",
    "m=input(\"enter month: \")\n",
    "if (m==\"december\" or m==\"january\" or m==\"february\"):\n",
    "    print(\"winter\")\n",
    "elif (m==\"march\" or m==\"april\" or m==\"may\"):\n",
    "    print(\"spring\")\n",
    "elif (m==\"june\" or m==\"july\" or m==\"august\"):\n",
    "    print(\"summer\")\n",
    "else:\n",
    "    print(\"autumn\")"
   ]
  },
  {
   "cell_type": "code",
   "execution_count": 8,
   "metadata": {},
   "outputs": [
    {
     "name": "stdout",
     "output_type": "stream",
     "text": [
      "enter wieght40\n",
      "enter hieght5\n",
      "obese\n"
     ]
    }
   ],
   "source": [
    "#6\n",
    "w=int(input(\"enter wieght\"))\n",
    "h=int(input(\"enter hieght\"))\n",
    "b=(w*0.45359237)/(h*0.0254)**2\n",
    "if b<18.5:\n",
    "    print(\"underweight\")\n",
    "elif 25.0<=b<30.0:\n",
    "    print(\"over weight\")\n",
    "else:\n",
    "    print(\"obese\")"
   ]
  },
  {
   "cell_type": "code",
   "execution_count": 7,
   "metadata": {},
   "outputs": [
    {
     "name": "stdout",
     "output_type": "stream",
     "text": [
      "enter numbers between 100 and 1000:200\n",
      "2\n"
     ]
    }
   ],
   "source": [
    "#7\n",
    "i=int(input(\"enter numbers between 100 and 1000:\" ))\n",
    "sum=0\n",
    "while i>0:\n",
    "    n=i%10\n",
    "    sum=sum+n\n",
    "    i=int(i/10)\n",
    "print(sum)"
   ]
  },
  {
   "cell_type": "code",
   "execution_count": 6,
   "metadata": {},
   "outputs": [
    {
     "name": "stdout",
     "output_type": "stream",
     "text": [
      "1  2  3  4  5  6  7  8  9  11  22  33  44  55  66  77  88  99  101  111  121  131  141  151  161  171  181  191  202  212  222  232  242  252  262  272  282  292  303  313  323  333  343  353  363  373  383  393  404  414  424  434  444  454  464  474  484  494  505  515  525  535  545  555  565  575  585  595  606  616  626  636  646  656  666  676  686  696  707  717  727  737  747  757  767  777  787  797  808  818  828  838  848  858  868  878  888  898  909  919  929  939  949  959  969  979  989  999  "
     ]
    }
   ],
   "source": [
    "#8\n",
    "for i in range(1,1001):\n",
    "    sum=0\n",
    "    t=i\n",
    "    while i>0:\n",
    "        n=i%10\n",
    "        sum=sum*10+n\n",
    "        i=i//10\n",
    "    if t==sum:\n",
    "            print(t,end=\"  \")"
   ]
  },
  {
   "cell_type": "code",
   "execution_count": 5,
   "metadata": {},
   "outputs": [
    {
     "name": "stdout",
     "output_type": "stream",
     "text": [
      "1 153 370 371 407 "
     ]
    }
   ],
   "source": [
    "#9\n",
    "for i in range(1,1001):\n",
    "    sum=0\n",
    "    t=i\n",
    "    while i>0:\n",
    "        n=i%10\n",
    "        sum+=n*n*n\n",
    "        i=i//10\n",
    "    if sum==t:\n",
    "        print(t,end= \" \")"
   ]
  },
  {
   "cell_type": "code",
   "execution_count": 3,
   "metadata": {},
   "outputs": [
    {
     "name": "stdout",
     "output_type": "stream",
     "text": [
      "1\n",
      "2\n",
      "Fizz\n",
      "4\n",
      "Buzz\n",
      "Fizz\n",
      "7\n",
      "8\n",
      "Fizz\n",
      "Buzz\n",
      "11\n",
      "Fizz\n",
      "13\n",
      "14\n",
      "fizz buzz\n",
      "16\n",
      "17\n",
      "Fizz\n",
      "19\n",
      "Buzz\n",
      "Fizz\n",
      "22\n",
      "23\n",
      "Fizz\n",
      "Buzz\n",
      "26\n",
      "Fizz\n",
      "28\n",
      "29\n",
      "fizz buzz\n",
      "31\n",
      "32\n",
      "Fizz\n",
      "34\n",
      "Buzz\n",
      "Fizz\n",
      "37\n",
      "38\n",
      "Fizz\n",
      "Buzz\n",
      "41\n",
      "Fizz\n",
      "43\n",
      "44\n",
      "fizz buzz\n",
      "46\n",
      "47\n",
      "Fizz\n",
      "49\n",
      "Buzz\n",
      "Fizz\n",
      "52\n",
      "53\n",
      "Fizz\n",
      "Buzz\n",
      "56\n",
      "Fizz\n",
      "58\n",
      "59\n",
      "fizz buzz\n",
      "61\n",
      "62\n",
      "Fizz\n",
      "64\n",
      "Buzz\n",
      "Fizz\n",
      "67\n",
      "68\n",
      "Fizz\n",
      "Buzz\n",
      "71\n",
      "Fizz\n",
      "73\n",
      "74\n",
      "fizz buzz\n",
      "76\n",
      "77\n",
      "Fizz\n",
      "79\n",
      "Buzz\n",
      "Fizz\n",
      "82\n",
      "83\n",
      "Fizz\n",
      "Buzz\n",
      "86\n",
      "Fizz\n",
      "88\n",
      "89\n",
      "fizz buzz\n",
      "91\n",
      "92\n",
      "Fizz\n",
      "94\n",
      "Buzz\n",
      "Fizz\n",
      "97\n",
      "98\n",
      "Fizz\n",
      "Buzz\n"
     ]
    }
   ],
   "source": [
    "#10\n",
    "for i in range(1,101):\n",
    "    if i%3==0 and i%5==0:\n",
    "        print(\"fizz buzz\")\n",
    "    elif i%3==0:\n",
    "        print(\"Fizz\")\n",
    "    elif i%5==0:\n",
    "        print(\"Buzz\")\n",
    "    else:\n",
    "        print(i)\n"
   ]
  },
  {
   "cell_type": "code",
   "execution_count": 2,
   "metadata": {},
   "outputs": [
    {
     "name": "stdout",
     "output_type": "stream",
     "text": [
      "enter the height of well=40\n",
      "enter the meters which are climbed=30\n",
      "enter slips down=1\n",
      "2\n"
     ]
    }
   ],
   "source": [
    "#11\n",
    "h=int(input(\"enter the height of well=\"))\n",
    "u=int(input(\"enter the meters which are climbed=\"))\n",
    "d=int(input(\"enter slips down=\"))\n",
    "s=((h-u)+(u-d))//(u-d)\n",
    "print(s+1)"
   ]
  },
  {
   "cell_type": "code",
   "execution_count": null,
   "metadata": {},
   "outputs": [],
   "source": []
  },
  {
   "cell_type": "code",
   "execution_count": null,
   "metadata": {},
   "outputs": [],
   "source": []
  },
  {
   "cell_type": "code",
   "execution_count": null,
   "metadata": {},
   "outputs": [],
   "source": []
  },
  {
   "cell_type": "code",
   "execution_count": null,
   "metadata": {},
   "outputs": [],
   "source": []
  }
 ],
 "metadata": {
  "kernelspec": {
   "display_name": "Python 3",
   "language": "python",
   "name": "python3"
  },
  "language_info": {
   "codemirror_mode": {
    "name": "ipython",
    "version": 3
   },
   "file_extension": ".py",
   "mimetype": "text/x-python",
   "name": "python",
   "nbconvert_exporter": "python",
   "pygments_lexer": "ipython3",
   "version": "3.7.6"
  }
 },
 "nbformat": 4,
 "nbformat_minor": 4
}
